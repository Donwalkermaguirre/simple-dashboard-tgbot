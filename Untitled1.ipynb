{
 "cells": [
  {
   "cell_type": "code",
   "execution_count": 19,
   "metadata": {},
   "outputs": [],
   "source": [
    "import sqlite3\n",
    "from Utils2 import *\n",
    "from functools import wraps\n",
    "import logging\n",
    "import mpld3\n",
    "import os\n",
    "import mpld3\n",
    "import sys\n",
    "import matplotlib.pyplot as plt\n",
    "import numpy as np\n",
    "logging.basicConfig(format='\\n %(asctime)s - %(name)s - %(levelname)s - %(message)s\\n',\n",
    "                    level=logging.DEBUG)\n",
    "logger = logging.getLogger(__name__)\n",
    "db=sqlite3.connect('mydb')\n",
    "db2 = sqlite3.connect('mydb_nonhashed')"
   ]
  },
  {
   "cell_type": "markdown",
   "metadata": {},
   "source": [
    "# FLASK TEST\n"
   ]
  },
  {
   "cell_type": "code",
   "execution_count": 25,
   "metadata": {},
   "outputs": [
    {
     "name": "stderr",
     "output_type": "stream",
     "text": [
      " * Running on http://127.0.0.1:5000/ (Press CTRL+C to quit)\n",
      "\n",
      " 2018-06-11 17:53:44,087 - werkzeug - INFO -  * Running on http://127.0.0.1:5000/ (Press CTRL+C to quit)\n",
      "\n",
      "127.0.0.1 - - [11/Jun/2018 17:54:13] \"GET /plot_test HTTP/1.1\" 200 -\n",
      "\n",
      " 2018-06-11 17:54:13,257 - werkzeug - INFO - 127.0.0.1 - - [11/Jun/2018 17:54:13] \"GET /plot_test HTTP/1.1\" 200 -\n",
      "\n",
      "127.0.0.1 - - [11/Jun/2018 17:54:14] \"GET /favicon.ico HTTP/1.1\" 404 -\n",
      "\n",
      " 2018-06-11 17:54:14,010 - werkzeug - INFO - 127.0.0.1 - - [11/Jun/2018 17:54:14] \"GET /favicon.ico HTTP/1.1\" 404 -\n",
      "\n"
     ]
    }
   ],
   "source": [
    "# -*- coding: utf-8 -*-\n",
    "from flask import Flask,render_template,g,session,request\n",
    "import sqlite3\n",
    "import matplotlib.pyplot as plt\n",
    "import mpld3\n",
    "import json\n",
    "from Utils2 import get_db_user_data_dic,is_authentified_session\n",
    "import logging\n",
    "logging.basicConfig(format='\\n %(asctime)s - %(name)s - %(levelname)s - %(message)s\\n',\n",
    "                    level=logging.DEBUG)\n",
    "logger = logging.getLogger(__name__)\n",
    "\n",
    "app=Flask(__name__)\n",
    "\n",
    "\n",
    "app.config.update(dict(\n",
    "    SECRET_KEY=\"powerful secretkey\",\n",
    "    WTF_CSRF_SECRET_KEY=\"a csrf secret key\"\n",
    "))\n",
    "\n",
    "DATABASE='mydb'\n",
    "\n",
    "def data_pack_hist(data_raw):\n",
    "    data=[]\n",
    "    for d in data_raw:\n",
    "        try:\n",
    "            value=float(d['data'])\n",
    "            data.append(value)\n",
    "        except ValueError:\n",
    "            pass\n",
    "    return data\n",
    "\n",
    "def get_db():\n",
    "    db = getattr(g, '_database', None)\n",
    "    if db is None:\n",
    "        db = g._database = sqlite3.connect(DATABASE)\n",
    "    return db\n",
    "\n",
    "\n",
    "@app.route(\"/plot_test\")\n",
    "@is_authentified_session(session,get_db)\n",
    "def plot_test():\n",
    "    db=get_db()\n",
    "    username=session['username']\n",
    "    print username\n",
    "    data_raw=get_db_user_data_dic(username,db)\n",
    "    data=data_pack_hist(data_raw)\n",
    "    fig=plt.figure(0)\n",
    "    plt.hist(data)\n",
    "    json01 = json.dumps(mpld3.fig_to_dict(fig))\n",
    "    json02 = json.dumps(mpld3.fig_to_dict(fig))\n",
    "    json03 = json.dumps(mpld3.fig_to_dict(fig))\n",
    "    return render_template('page_mld3.html',json1=json01,json2=json02,json3=json03)\n",
    "\n",
    "\n",
    "\n",
    "@app.route(\"/test\")\n",
    "def test():\n",
    "    return render_template('rendered_page.html')\n",
    "\n",
    "\n",
    "@app.route(\"/hello\")\n",
    "def hello():\n",
    "    return \"hello worl\"\n",
    "if __name__==\"__main__\":\n",
    "    app.run()"
   ]
  },
  {
   "cell_type": "markdown",
   "metadata": {},
   "source": [
    "# Flask test redirects and request.endpoint\n"
   ]
  },
  {
   "cell_type": "code",
   "execution_count": 41,
   "metadata": {},
   "outputs": [
    {
     "name": "stderr",
     "output_type": "stream",
     "text": [
      "\n",
      " 2018-06-13 18:05:29,529 - werkzeug - INFO -  * Running on http://127.0.0.1:5000/ (Press CTRL+C to quit)\n",
      "\n",
      "\n",
      " 2018-06-13 18:05:31,183 - werkzeug - INFO - 127.0.0.1 - - [13/Jun/2018 18:05:31] \"GET /test HTTP/1.1\" 200 -\n",
      "\n"
     ]
    },
    {
     "name": "stdout",
     "output_type": "stream",
     "text": [
      "['__class__', '__delattr__', '__dict__', '__doc__', '__enter__', '__exit__', '__format__', '__getattribute__', '__hash__', '__init__', '__module__', '__new__', '__reduce__', '__reduce_ex__', '__repr__', '__setattr__', '__sizeof__', '__str__', '__subclasshook__', '__weakref__', '_get_file_stream', '_get_stream_for_parsing', '_is_old_module', '_load_form_data', '_parse_content_type', 'accept_charsets', 'accept_encodings', 'accept_languages', 'accept_mimetypes', 'access_route', 'application', 'args', 'authorization', 'base_url', 'blueprint', 'cache_control', 'charset', 'close', 'content_encoding', 'content_length', 'content_md5', 'content_type', 'cookies', 'data', 'date', 'dict_storage_class', 'disable_data_descriptor', 'encoding_errors', 'endpoint', 'environ', 'files', 'form', 'form_data_parser_class', 'from_values', 'full_path', 'get_data', 'get_json', 'headers', 'host', 'host_url', 'if_match', 'if_modified_since', 'if_none_match', 'if_range', 'if_unmodified_since', 'input_stream', 'is_json', 'is_multiprocess', 'is_multithread', 'is_run_once', 'is_secure', 'is_xhr', 'json', 'list_storage_class', 'make_form_data_parser', 'max_content_length', 'max_form_memory_size', 'max_forwards', 'method', 'mimetype', 'mimetype_params', 'module', 'on_json_loading_failed', 'parameter_storage_class', 'path', 'pragma', 'query_string', 'range', 'referrer', 'remote_addr', 'remote_user', 'routing_exception', 'scheme', 'script_root', 'shallow', 'stream', 'trusted_hosts', 'url', 'url_charset', 'url_root', 'url_rule', 'user_agent', 'values', 'view_args', 'want_form_data_parsed']\n",
      "CombinedMultiDict([ImmutableMultiDict([]), ImmutableMultiDict([])])\n",
      "/test\n",
      "ImmutableMultiDict([])\n",
      "None\n"
     ]
    }
   ],
   "source": [
    "# -*- coding: utf-8 -*-\n",
    "from flask import Flask,render_template,g,session,request,redirect,url_for\n",
    "import sqlite3\n",
    "import matplotlib.pyplot as plt\n",
    "import mpld3\n",
    "import json\n",
    "from Utils2 import get_db_user_data_dic,is_authentified_session\n",
    "import logging\n",
    "logging.basicConfig(format='\\n %(asctime)s - %(name)s - %(levelname)s - %(message)s\\n',\n",
    "                    level=logging.DEBUG)\n",
    "logger = logging.getLogger(__name__)\n",
    "\n",
    "app=Flask(__name__)\n",
    "\n",
    "\n",
    "app.config.update(dict(\n",
    "    SECRET_KEY=\"powerful secretkey\",\n",
    "    WTF_CSRF_SECRET_KEY=\"a csrf secret key\"\n",
    "))\n",
    "\n",
    "DATABASE='mydb'\n",
    "\n",
    "\n",
    "\n",
    "def get_db():\n",
    "    db = getattr(g, '_database', None)\n",
    "    if db is None:\n",
    "        db = g._database = sqlite3.connect(DATABASE)\n",
    "    return db\n",
    "\n",
    "@app.route(\"/test\")\n",
    "def teste():\n",
    "    #this would be the arg in the url, the url the usser wants to access to,url_for is to match endpoint-url\n",
    "    print dir(request)\n",
    "    print request.values\n",
    "    print url_for(request.endpoint)\n",
    "    print request.args\n",
    "    print request.args.get('next')\n",
    "    return \"TEST\"\n",
    "\n",
    "\n",
    "@app.route(\"/hello\")\n",
    "def hello():\n",
    "    print request.values.get('next')\n",
    "    return redirect('test')\n",
    "if __name__==\"__main__\":\n",
    "    app.run()"
   ]
  },
  {
   "cell_type": "markdown",
   "metadata": {},
   "source": [
    "# Flask test check if safe"
   ]
  },
  {
   "cell_type": "code",
   "execution_count": 37,
   "metadata": {},
   "outputs": [
    {
     "name": "stderr",
     "output_type": "stream",
     "text": [
      "\n",
      " 2018-06-13 17:53:20,141 - werkzeug - INFO -  * Running on http://127.0.0.1:5000/ (Press CTRL+C to quit)\n",
      "\n",
      "\n",
      " 2018-06-13 17:53:21,944 - werkzeug - INFO - 127.0.0.1 - - [13/Jun/2018 17:53:21] \"GET /test HTTP/1.1\" 200 -\n",
      "\n",
      "[2018-06-13 17:53:30,397] ERROR in app: Exception on /hello [GET]\n",
      "Traceback (most recent call last):\n",
      "  File \"/usr/local/lib/python2.7/dist-packages/flask/app.py\", line 1982, in wsgi_app\n",
      "    response = self.full_dispatch_request()\n",
      "  File \"/usr/local/lib/python2.7/dist-packages/flask/app.py\", line 1614, in full_dispatch_request\n",
      "    rv = self.handle_user_exception(e)\n",
      "  File \"/usr/local/lib/python2.7/dist-packages/flask/app.py\", line 1517, in handle_user_exception\n",
      "    reraise(exc_type, exc_value, tb)\n",
      "  File \"/usr/local/lib/python2.7/dist-packages/flask/app.py\", line 1612, in full_dispatch_request\n",
      "    rv = self.dispatch_request()\n",
      "  File \"/usr/local/lib/python2.7/dist-packages/flask/app.py\", line 1598, in dispatch_request\n",
      "    return self.view_functions[rule.endpoint](**req.view_args)\n",
      "  File \"<ipython-input-37-702f478aefdb>\", line 47, in hello\n",
      "    print url_parse(next_page)\n",
      "  File \"/usr/local/lib/python2.7/dist-packages/werkzeug/urls.py\", line 420, in url_parse\n",
      "    i = url.find(s(':'))\n",
      "AttributeError: 'NoneType' object has no attribute 'find'\n",
      "\n",
      " 2018-06-13 17:53:30,404 - werkzeug - INFO - 127.0.0.1 - - [13/Jun/2018 17:53:30] \"GET /hello HTTP/1.1\" 500 -\n",
      "\n"
     ]
    },
    {
     "name": "stdout",
     "output_type": "stream",
     "text": [
      "None\n"
     ]
    },
    {
     "name": "stderr",
     "output_type": "stream",
     "text": [
      "\n",
      " 2018-06-13 17:54:05,659 - werkzeug - INFO - 127.0.0.1 - - [13/Jun/2018 17:54:05] \"GET /test HTTP/1.1\" 200 -\n",
      "\n",
      "\n",
      " 2018-06-13 17:54:14,882 - werkzeug - INFO - 127.0.0.1 - - [13/Jun/2018 17:54:14] \"GET /hello?next=3 HTTP/1.1\" 302 -\n",
      "\n",
      "\n",
      " 2018-06-13 17:54:14,947 - werkzeug - INFO - 127.0.0.1 - - [13/Jun/2018 17:54:14] \"GET /3 HTTP/1.1\" 404 -\n",
      "\n"
     ]
    },
    {
     "name": "stdout",
     "output_type": "stream",
     "text": [
      "3\n",
      "3\n"
     ]
    }
   ],
   "source": [
    "\n",
    "# -*- coding: utf-8 -*-\n",
    "from urlparse import urlparse, urljoin\n",
    "from werkzeug.urls import url_parse\n",
    "from flask import Flask,render_template,g,session,request,redirect,url_for\n",
    "import sqlite3\n",
    "import matplotlib.pyplot as plt\n",
    "import mpld3\n",
    "import json\n",
    "from Utils2 import get_db_user_data_dic,is_authentified_session\n",
    "import logging\n",
    "logging.basicConfig(format='\\n %(asctime)s - %(name)s - %(levelname)s - %(message)s\\n',\n",
    "                    level=logging.DEBUG)\n",
    "logger = logging.getLogger(__name__)\n",
    "\n",
    "app=Flask(__name__)\n",
    "\n",
    "\n",
    "app.config.update(dict(\n",
    "    SECRET_KEY=\"powerful secretkey\",\n",
    "    WTF_CSRF_SECRET_KEY=\"a csrf secret key\"\n",
    "))\n",
    "\n",
    "DATABASE='mydb'\n",
    "\n",
    "\n",
    "\n",
    "def get_db():\n",
    "    db = getattr(g, '_database', None)\n",
    "    if db is None:\n",
    "        db = g._database = sqlite3.connect(DATABASE)\n",
    "    return db\n",
    "\n",
    "@app.route(\"/test\")\n",
    "def teste():\n",
    "    #this would be the arg in the url, the url the usser wants to access to,url_for is to match endpoint-url\n",
    "    #print url_for(request.endpoint)\n",
    "   # print request.args\n",
    "   # print request.args.get('next')\n",
    "    return \"TEST\"\n",
    "\n",
    "\n",
    "@app.route(\"/hello\")\n",
    "def hello():\n",
    "    print request.values.get('next')\n",
    "    next_page = request.args.get('next')\n",
    "    print url_parse(next_page)\n",
    "    if not next_page or url_parse(next_page).netloc != '':\n",
    "        next_page = url_for('teste')\n",
    "    return redirect(next_page)\n",
    "if __name__==\"__main__\":\n",
    "    app.run()"
   ]
  },
  {
   "cell_type": "code",
   "execution_count": 22,
   "metadata": {},
   "outputs": [
    {
     "name": "stdout",
     "output_type": "stream",
     "text": [
      "([(1, u'339405622', u'Jojo', u'3c4aaf3855bff4a4ff5ebb8fd605c71b5aa44f266478aeb628662a3a'), (2, u'999', u'jaime', u'b1818cd851cb1db9ab4f84711f5778c0570ad26d6045337cb08b4f78')], [(None, 1, u'pruebadata', 1, 1, u'frequency'), (None, 54, u'pruebadata', 1, 1, u'frequency'), (None, 54, u'pruebadata', 1, 1, u'frequency'), (None, 54, u'shit', 1, 1, u'frequency'), (None, 54, u'shit', 1, 2, u'frequency'), (None, 54, u'shita', 1, 2, u'frequency'), (None, 54, u'shita', 1, 2, u'frequency'), (None, 12, u'23', 1, 2, None), (None, 12, u'23', 1, 2, None), (None, 12, u'23', 1, 2, None), (None, 1, u'18', 1, 1, None), (None, 1, u'7', 1, 1, None), (None, 1, u'5', 1, 1, None), (None, 1, u'76', 1, 1, None), (None, 1, u'76', 1, 1, None), (None, 1, u'566', 1, 1, None)])\n"
     ]
    },
    {
     "data": {
      "image/png": "[encoded data removed]",
      "text/plain": [
       "<matplotlib.figure.Figure at 0x7f91ff295f50>"
      ]
     },
     "metadata": {},
     "output_type": "display_data"
    }
   ],
   "source": [
    "data_raw=get_db_user_data_dic('Jojo',db)\n",
    "data=[]\n",
    "for d in data_raw:\n",
    "    try:\n",
    "        value=float(d['data'])\n",
    "        data.append(value)\n",
    "    except ValueError:\n",
    "        pass\n",
    "fig=plt.figure(0)\n",
    "\n",
    "def data_pack_hist(data_raw):\n",
    "    data=[]\n",
    "    for d in data_raw:\n",
    "        try:\n",
    "            value=float(d['data'])\n",
    "            data.append(value)\n",
    "        except ValueError:\n",
    "            pass\n",
    "    return data\n",
    "plt.hist(data_pack_hist(data_raw))\n",
    "\n",
    "print retrieve_db(db)"
   ]
  },
  {
   "cell_type": "code",
   "execution_count": null,
   "metadata": {},
   "outputs": [],
   "source": []
  },
  {
   "cell_type": "code",
   "execution_count": null,
   "metadata": {},
   "outputs": [],
   "source": []
  },
  {
   "cell_type": "code",
   "execution_count": null,
   "metadata": {},
   "outputs": [],
   "source": []
  },
  {
   "cell_type": "code",
   "execution_count": 23,
   "metadata": {},
   "outputs": [
    {
     "name": "stdout",
     "output_type": "stream",
     "text": [
      "cool\n"
     ]
    }
   ],
   "source": [
    "\n",
    "try:\n",
    "    value=float('77')\n",
    "    print 'cool'\n",
    "except ValueError:\n",
    "    print \"not cool\""
   ]
  },
  {
   "cell_type": "code",
   "execution_count": 30,
   "metadata": {},
   "outputs": [
    {
     "data": {
      "text/plain": [
       "(array([ 7.,  3.,  4.,  5.,  6.,  7.,  6.,  4.,  0.,  8.]),\n",
       " array([ 0.03014876,  0.12547988,  0.220811  ,  0.31614212,  0.41147324,\n",
       "         0.50680436,  0.60213549,  0.69746661,  0.79279773,  0.88812885,\n",
       "         0.98345997]),\n",
       " <a list of 10 Patch objects>)"
      ]
     },
     "execution_count": 30,
     "metadata": {},
     "output_type": "execute_result"
    },
    {
     "data": {
      "image/png": "[encoded data removed]",
      "text/plain": [
       "<matplotlib.figure.Figure at 0x7fede5352d10>"
      ]
     },
     "metadata": {},
     "output_type": "display_data"
    }
   ],
   "source": [
    "x=np.random.rand(50)\n",
    "plt.hist(x)"
   ]
  },
  {
   "cell_type": "code",
   "execution_count": null,
   "metadata": {},
   "outputs": [],
   "source": []
  }
 ],
 "metadata": {
  "kernelspec": {
   "display_name": "Python 2",
   "language": "python",
   "name": "python2"
  },
  "language_info": {
   "codemirror_mode": {
    "name": "ipython",
    "version": 2
   },
   "file_extension": ".py",
   "mimetype": "text/x-python",
   "name": "python",
   "nbconvert_exporter": "python",
   "pygments_lexer": "ipython2",
   "version": "2.7.12"
  }
 },
 "nbformat": 4,
 "nbformat_minor": 2
}
