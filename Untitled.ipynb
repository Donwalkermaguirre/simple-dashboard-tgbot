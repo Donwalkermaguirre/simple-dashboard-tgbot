{
 "cells": [
  {
   "cell_type": "code",
   "execution_count": 31,
   "metadata": {},
   "outputs": [],
   "source": [
    "import sqlite3\n",
    "from Utils2 import *\n",
    "from functools import wraps\n",
    "import logging \n",
    "logging.basicConfig(format='\\n %(asctime)s - %(name)s - %(levelname)s - %(message)s\\n',\n",
    "                    level=logging.DEBUG)\n",
    "logger = logging.getLogger(__name__)\n",
    "db=sqlite3.connect('mydb')\n",
    "db2 = sqlite3.connect('mydb_nonhashed')"
   ]
  },
  {
   "cell_type": "markdown",
   "metadata": {},
   "source": [
    "# Testing db"
   ]
  },
  {
   "cell_type": "code",
   "execution_count": 2,
   "metadata": {},
   "outputs": [
    {
     "name": "stderr",
     "output_type": "stream",
     "text": [
      "\n",
      " 2018-06-01 13:02:50,389 - Utils2 - DEBUG - Data inserted into user of id:2\n",
      "\n"
     ]
    }
   ],
   "source": [
    "#insert_db_users(999,'jaime','casanova',db)\n",
    "#insert_db_users_nonhashed(444,'jaime','casanova',db2)\n",
    "token={'username': u'jaime', 'date': 54, 'password': u'casanova', 'data': 'shita', 'typeplot': 'frequency'}\n",
    "insert_db_dataset_token(token,db)"
   ]
  },
  {
   "cell_type": "code",
   "execution_count": 53,
   "metadata": {},
   "outputs": [
    {
     "name": "stdout",
     "output_type": "stream",
     "text": [
      "{'count': 1, 'dataid': None, 'datasetuser': 2, 'typeplot': u'frequency', 'date': 54, 'data': u'shit'}\n",
      "{'count': 1, 'dataid': None, 'datasetuser': 2, 'typeplot': u'frequency', 'date': 54, 'data': u'shita'}\n",
      "{'count': 1, 'dataid': None, 'datasetuser': 2, 'typeplot': u'frequency', 'date': 54, 'data': u'shita'}\n",
      "[{'count': 1, 'dataid': None, 'datasetuser': 2, 'typeplot': u'frequency', 'date': 54, 'data': u'shit'}, {'count': 1, 'dataid': None, 'datasetuser': 2, 'typeplot': u'frequency', 'date': 54, 'data': u'shita'}, {'count': 1, 'dataid': None, 'datasetuser': 2, 'typeplot': u'frequency', 'date': 54, 'data': u'shita'}]\n"
     ]
    }
   ],
   "source": [
    "cursor.execute('''SELECT * FROM dataset''')\n",
    "names = tuple(map(lambda x: x[0], cursor.description))\n",
    "data=get_db_user_data('jaime',db)\n",
    "datadic=map(lambda x: dict(zip(names,x)),data)\n",
    "for b in data:\n",
    "    print dict(zip(names,b))\n",
    "print datadic\n",
    "def get_db_user_data_dic(username,db):\n",
    "    data=get_db_user_data('jaime',db)\n",
    "    datadic=map(lambda x: dict(zip(names,x)),data)\n",
    "    return datadic"
   ]
  },
  {
   "cell_type": "code",
   "execution_count": 52,
   "metadata": {},
   "outputs": [
    {
     "name": "stdout",
     "output_type": "stream",
     "text": [
      "frequency shit\n",
      "frequency shita\n",
      "frequency shita\n"
     ]
    }
   ],
   "source": [
    "data=get_db_user_data_dic('jaime',db)\n",
    "for d in data:\n",
    "    print d['typeplot'],d['data']"
   ]
  },
  {
   "cell_type": "code",
   "execution_count": 6,
   "metadata": {},
   "outputs": [
    {
     "name": "stdout",
     "output_type": "stream",
     "text": [
      "False\n",
      "[(u'Jojo', u'Jojo')]\n",
      "([(1, u'339405622', u'Jojo', u'3c4aaf3855bff4a4ff5ebb8fd605c71b5aa44f266478aeb628662a3a')], [(None, 1, u'pruebadata', 1, 1, u'frequency'), (None, 54, u'pruebadata', 1, 1, u'frequency')])\n"
     ]
    }
   ],
   "source": [
    "print bool(check_validity('jaime','casanova',db))\n",
    "print get_db_user_byid('339405622',db2)\n",
    "print retrieve_db(db)"
   ]
  },
  {
   "cell_type": "code",
   "execution_count": 4,
   "metadata": {},
   "outputs": [
    {
     "name": "stdout",
     "output_type": "stream",
     "text": [
      "[]\n"
     ]
    }
   ],
   "source": [
    "user=get_db_user_byid('44',db)\n",
    "print user"
   ]
  },
  {
   "cell_type": "markdown",
   "metadata": {},
   "source": [
    "# DECORATOR"
   ]
  },
  {
   "cell_type": "code",
   "execution_count": 14,
   "metadata": {},
   "outputs": [
    {
     "ename": "ImportError",
     "evalue": "cannot import name User",
     "output_type": "error",
     "traceback": [
      "\u001b[0;31m---------------------------------------------------------------------------\u001b[0m",
      "\u001b[0;31mImportError\u001b[0m                               Traceback (most recent call last)",
      "\u001b[0;32m<ipython-input-14-ecc33dba87b3>\u001b[0m in \u001b[0;36m<module>\u001b[0;34m()\u001b[0m\n\u001b[1;32m      1\u001b[0m \u001b[0;32mfrom\u001b[0m \u001b[0mfunctools\u001b[0m \u001b[0;32mimport\u001b[0m \u001b[0mwraps\u001b[0m\u001b[0;34m\u001b[0m\u001b[0m\n\u001b[1;32m      2\u001b[0m \u001b[0;32mfrom\u001b[0m \u001b[0mflask\u001b[0m \u001b[0;32mimport\u001b[0m \u001b[0murl_for\u001b[0m\u001b[0;34m,\u001b[0m \u001b[0mrequest\u001b[0m\u001b[0;34m,\u001b[0m \u001b[0mredirect\u001b[0m\u001b[0;34m,\u001b[0m \u001b[0msession\u001b[0m\u001b[0;34m\u001b[0m\u001b[0m\n\u001b[0;32m----> 3\u001b[0;31m \u001b[0;32mfrom\u001b[0m \u001b[0muser\u001b[0m \u001b[0;32mimport\u001b[0m \u001b[0mUser\u001b[0m\u001b[0;34m\u001b[0m\u001b[0m\n\u001b[0m\u001b[1;32m      4\u001b[0m \u001b[0;34m\u001b[0m\u001b[0m\n\u001b[1;32m      5\u001b[0m \u001b[0;32mdef\u001b[0m \u001b[0mrequires_access_level\u001b[0m\u001b[0;34m(\u001b[0m\u001b[0maccess_level\u001b[0m\u001b[0;34m)\u001b[0m\u001b[0;34m:\u001b[0m\u001b[0;34m\u001b[0m\u001b[0m\n",
      "\u001b[0;31mImportError\u001b[0m: cannot import name User"
     ]
    }
   ],
   "source": [
    "from functools import wraps\n",
    "from flask import url_for, request, redirect, session\n",
    "from user import User\n",
    "\n",
    "def requires_access_level(access_level):\n",
    "    def decorator(f):\n",
    "        @wraps(f)\n",
    "        def decorated_function(*args, **kwargs):\n",
    "            if not session.get('email'):\n",
    "                return redirect(url_for('users.login'))\n",
    "                user = User.find_by_email(session['email'])\n",
    "            elif not user.allowed(access_level):\n",
    "                return redirect(url_for('users.profile', message=\"You do not have access to that page. Sorry!\"))\n",
    "            return f(*args, **kwargs)\n",
    "        return decorated_function\n",
    "    return decorator"
   ]
  },
  {
   "cell_type": "markdown",
   "metadata": {},
   "source": [
    "# arg,kwargs reminder"
   ]
  },
  {
   "cell_type": "code",
   "execution_count": 28,
   "metadata": {},
   "outputs": [
    {
     "name": "stdout",
     "output_type": "stream",
     "text": [
      "2,44,3\n"
     ]
    }
   ],
   "source": [
    "def call_printing(**kwargs):\n",
    "    printingfun(**kwargs)\n",
    "def printingfun(x,y,z):\n",
    "    print \"{},{},{}\".format(x,y,z)\n",
    "#kargs={'x':1,'y':2,'z':3}\n",
    "call_printing(y=44,x=2,z=3)"
   ]
  },
  {
   "cell_type": "code",
   "execution_count": 27,
   "metadata": {},
   "outputs": [
    {
     "name": "stdout",
     "output_type": "stream",
     "text": [
      "1,2,3\n"
     ]
    }
   ],
   "source": [
    "def call_printing(*args):\n",
    "    printingfun(*args)\n",
    "def printingfun(x,y,z):\n",
    "    print \"{},{},{}\".format(x,y,z)\n",
    "#kargs={'x':1,'y':2,'z':3}\n",
    "call_printing(1,2,3)"
   ]
  },
  {
   "cell_type": "markdown",
   "metadata": {},
   "source": [
    "# is authentified decorator"
   ]
  },
  {
   "cell_type": "code",
   "execution_count": 2,
   "metadata": {},
   "outputs": [],
   "source": [
    "def is_authentified1(jswtoken):\n",
    "    def decorator(f):\n",
    "        #wraps preserve the name of the decorated function\n",
    "        @wraps(f)\n",
    "        def decorated_function(*args,**kwargs):\n",
    "            if jswtoken!='jaime':\n",
    "                print \"NOT AUTHENTIFIED\"\n",
    "                return \"login please\"\n",
    "            return f(*args,**kwargs)\n",
    "        return decorated_function\n",
    "    return decorator\n",
    "jswtoken='jaimes'"
   ]
  },
  {
   "cell_type": "code",
   "execution_count": 3,
   "metadata": {},
   "outputs": [
    {
     "name": "stdout",
     "output_type": "stream",
     "text": [
      "fulfilling my duty master\n"
     ]
    }
   ],
   "source": [
    "def testfunction():\n",
    "    print \"fulfilling my duty master\"\n",
    "testfunction()"
   ]
  },
  {
   "cell_type": "code",
   "execution_count": 4,
   "metadata": {},
   "outputs": [
    {
     "name": "stdout",
     "output_type": "stream",
     "text": [
      "NOT AUTHENTIFIED\n"
     ]
    },
    {
     "data": {
      "text/plain": [
       "'login please'"
      ]
     },
     "execution_count": 4,
     "metadata": {},
     "output_type": "execute_result"
    }
   ],
   "source": [
    "@is_authentified1(jswtoken)\n",
    "def testfunction():\n",
    "    print \"fulfilling my duty master\"\n",
    "testfunction()"
   ]
  },
  {
   "cell_type": "code",
   "execution_count": 5,
   "metadata": {},
   "outputs": [],
   "source": [
    "def request():\n",
    "    pass\n",
    "request.form={'username':'jaimes','password':'casanova'}\n",
    "def is_authentified(request,db):\n",
    "    def decorator(f):\n",
    "        #wraps preserve the name of the decorated function\n",
    "        @wraps(f)\n",
    "        def decorated_function(*args,**kwargs):\n",
    "            username=request.form['username']\n",
    "            password=request.form['password']\n",
    "            isuser=check_validity(username,password,db)\n",
    "            if not isuser:\n",
    "                print \"NOT AUTHENTIFIED\"\n",
    "                return \"login please\"\n",
    "            return f(*args,**kwargs)\n",
    "        return decorated_function\n",
    "    return decorator"
   ]
  },
  {
   "cell_type": "code",
   "execution_count": 75,
   "metadata": {},
   "outputs": [
    {
     "name": "stdout",
     "output_type": "stream",
     "text": [
      "user:[]\n",
      "NOT AUTHENTIFIED\n"
     ]
    },
    {
     "data": {
      "text/plain": [
       "'login please'"
      ]
     },
     "execution_count": 75,
     "metadata": {},
     "output_type": "execute_result"
    }
   ],
   "source": [
    "@is_authentified(request,db)\n",
    "def testfunction2():\n",
    "    print \"fulfilling my duty master\"\n",
    "testfunction2()"
   ]
  },
  {
   "cell_type": "markdown",
   "metadata": {},
   "source": [
    "#  choosing plot and data entry routine"
   ]
  },
  {
   "cell_type": "code",
   "execution_count": 47,
   "metadata": {},
   "outputs": [
    {
     "name": "stdout",
     "output_type": "stream",
     "text": [
      "{'username': u'Jojo', 'date': 1, 'password': u'Jojo', 'data': 'pruebadata', 'typeplot': 'frequency'}\n"
     ]
    }
   ],
   "source": [
    "def check_valid_arg_plot(message):\n",
    "    v1=('frequency'==message)\n",
    "    v2=('series'==message)\n",
    "    return v1 or v2\n",
    "def token_builder(ids,db,message,typeplot):\n",
    "    user=get_db_user_byid(ids,db2)\n",
    "    username=user[0][0]\n",
    "    password=user[0][1]\n",
    "    date=1\n",
    "    token={'username':username,'password':password,'date':date,'typeplot':typeplot,'data':message}\n",
    "    return token\n",
    "\n",
    "def plot_handler(context,ids,db,message_data):\n",
    "    if check_valid_arg_plot(context[ids]['state']):\n",
    "        #validator here\n",
    "        context[ids]['data_plot']=message_data\n",
    "        if message_data=='\\stop':\n",
    "            print \"Ending data entry\"\n",
    "            #send_message(\"Ending data entry\",ids)\n",
    "            del context[ids]['data_plot']\n",
    "            context[ids]['state']=None\n",
    "            return\n",
    "        return token_builder(ids,db,message_data,context[ids]['state'])\n",
    "        \n",
    "\n",
    "context={'339405622':{'state':'frequency'}}\n",
    "print plot_handler(context,'339405622',db,'pruebadata')"
   ]
  },
  {
   "cell_type": "code",
   "execution_count": 93,
   "metadata": {
    "scrolled": true
   },
   "outputs": [],
   "source": [
    "def choosing_plot(context,ids,db,message):\n",
    "    logging.debug('INSIDE CHOOSING PLOT CONTEXT:{} MESSAGE {}'.format(context,message))\n",
    "    if not context[ids]['state']:\n",
    "        context[ids]['state']='choosing_plot'\n",
    "        logging.debug('modifying state to choosing_plot')\n",
    "        print \"choose type of plot\"\n",
    "        #send_message(\"Choose type of plot series frequency\",ids)\n",
    "    elif context[ids]['state']=='choosing_plot':\n",
    "        if check_valid_arg_plot(message):\n",
    "            context[ids]['state']=message\n",
    "            logging.debug('modifying state to {}'.format(message))\n",
    "            print \"{} plot choosen, type \\stop to stop entrying data\".format(message)\n",
    "            #send_message(\"{} plot choosen, type \\stop to stop entrying data\".format(message),ids)\n",
    "        else:\n",
    "            print \"unknown command\"\n",
    "            #send_message('unknown command',ids)\n",
    "def conversation(context,ids,db,message):\n",
    "    choosing_plot(context,ids,db,message)\n",
    "    token=plot_handler(context,ids,db,message)\n",
    "    logger.debug('token sent {}'.format(token))\n",
    "    logger.debug('context conversation output{}'.format(context))\n",
    "\n"
   ]
  },
  {
   "cell_type": "markdown",
   "metadata": {},
   "source": [
    "# testing"
   ]
  },
  {
   "cell_type": "code",
   "execution_count": 90,
   "metadata": {},
   "outputs": [],
   "source": [
    "context={'339405622':{'state':None}}\n",
    "choosing_plot(context,'339405622',db,\"e\")"
   ]
  },
  {
   "cell_type": "code",
   "execution_count": 79,
   "metadata": {},
   "outputs": [
    {
     "name": "stderr",
     "output_type": "stream",
     "text": [
      "\n",
      " 2018-06-01 11:36:57,858 - root - DEBUG - INSIDE CHOOSING PLOT CONTEXT:{'339405622': {'state': 'choosing_plot'}} MESSAGE frequency\n",
      "\n",
      "\n",
      " 2018-06-01 11:36:57,866 - root - DEBUG - modifying state to frequency\n",
      "\n"
     ]
    },
    {
     "name": "stdout",
     "output_type": "stream",
     "text": [
      "frequency plot choosen, type \\stop to stop entrying data\n"
     ]
    }
   ],
   "source": [
    "choosing_plot(context,'339405622',db,\"frequency\")"
   ]
  },
  {
   "cell_type": "code",
   "execution_count": 80,
   "metadata": {},
   "outputs": [
    {
     "data": {
      "text/plain": [
       "{'339405622': {'state': 'frequency'}}"
      ]
     },
     "execution_count": 80,
     "metadata": {},
     "output_type": "execute_result"
    }
   ],
   "source": [
    "context"
   ]
  },
  {
   "cell_type": "code",
   "execution_count": 81,
   "metadata": {},
   "outputs": [
    {
     "data": {
      "text/plain": [
       "{'data': 'segunda entry',\n",
       " 'date': 1,\n",
       " 'password': u'Jojo',\n",
       " 'typeplot': 'frequency',\n",
       " 'username': u'Jojo'}"
      ]
     },
     "execution_count": 81,
     "metadata": {},
     "output_type": "execute_result"
    }
   ],
   "source": [
    "plot_handler(context,'339405622',db,\"segunda entry\")"
   ]
  },
  {
   "cell_type": "code",
   "execution_count": 82,
   "metadata": {},
   "outputs": [
    {
     "data": {
      "text/plain": [
       "{'339405622': {'data_plot': 'segunda entry', 'state': 'frequency'}}"
      ]
     },
     "execution_count": 82,
     "metadata": {},
     "output_type": "execute_result"
    }
   ],
   "source": [
    "context"
   ]
  },
  {
   "cell_type": "code",
   "execution_count": 83,
   "metadata": {},
   "outputs": [
    {
     "name": "stdout",
     "output_type": "stream",
     "text": [
      "Ending data entry\n"
     ]
    }
   ],
   "source": [
    "plot_handler(context,'339405622',db,\"\\stop\")"
   ]
  },
  {
   "cell_type": "code",
   "execution_count": 84,
   "metadata": {},
   "outputs": [
    {
     "data": {
      "text/plain": [
       "{'339405622': {'state': None}}"
      ]
     },
     "execution_count": 84,
     "metadata": {},
     "output_type": "execute_result"
    }
   ],
   "source": [
    "context"
   ]
  },
  {
   "cell_type": "code",
   "execution_count": 85,
   "metadata": {},
   "outputs": [
    {
     "name": "stderr",
     "output_type": "stream",
     "text": [
      "\n",
      " 2018-06-01 11:37:31,793 - root - DEBUG - INSIDE CHOOSING PLOT CONTEXT:{'339405622': {'state': None}} MESSAGE c\n",
      "\n",
      "\n",
      " 2018-06-01 11:37:31,800 - root - DEBUG - modifying state to choosing_plot\n",
      "\n"
     ]
    },
    {
     "name": "stdout",
     "output_type": "stream",
     "text": [
      "choose type of plot\n"
     ]
    }
   ],
   "source": [
    "choosing_plot(context,'339405622',db,\"c\")"
   ]
  },
  {
   "cell_type": "code",
   "execution_count": 88,
   "metadata": {},
   "outputs": [
    {
     "name": "stderr",
     "output_type": "stream",
     "text": [
      "\n",
      " 2018-06-01 11:37:56,106 - root - DEBUG - INSIDE CHOOSING PLOT CONTEXT:{'339405622': {'state': 'choosing_plot'}} MESSAGE frequency\n",
      "\n",
      "\n",
      " 2018-06-01 11:37:56,114 - root - DEBUG - modifying state to frequency\n",
      "\n"
     ]
    },
    {
     "name": "stdout",
     "output_type": "stream",
     "text": [
      "frequency plot choosen, type \\stop to stop entrying data\n"
     ]
    }
   ],
   "source": [
    "choosing_plot(context,'339405622',db,\"frequency\")"
   ]
  },
  {
   "cell_type": "code",
   "execution_count": 89,
   "metadata": {},
   "outputs": [
    {
     "data": {
      "text/plain": [
       "{'data': 's',\n",
       " 'date': 1,\n",
       " 'password': u'Jojo',\n",
       " 'typeplot': 'frequency',\n",
       " 'username': u'Jojo'}"
      ]
     },
     "execution_count": 89,
     "metadata": {},
     "output_type": "execute_result"
    }
   ],
   "source": [
    "plot_handler(context,'339405622',db,\"s\")"
   ]
  },
  {
   "cell_type": "code",
   "execution_count": 91,
   "metadata": {},
   "outputs": [
    {
     "name": "stderr",
     "output_type": "stream",
     "text": [
      "\n",
      " 2018-06-01 11:40:25,803 - root - DEBUG - INSIDE CHOOSING PLOT CONTEXT:{'339405622': {'state': None}} MESSAGE c\n",
      "\n",
      "\n",
      " 2018-06-01 11:40:25,806 - root - DEBUG - modifying state to choosing_plot\n",
      "\n",
      "\n",
      " 2018-06-01 11:40:25,810 - root - DEBUG - INSIDE CHOOSING PLOT CONTEXT:{'339405622': {'state': 'choosing_plot'}} MESSAGE frequency\n",
      "\n",
      "\n",
      " 2018-06-01 11:40:25,812 - root - DEBUG - modifying state to frequency\n",
      "\n"
     ]
    },
    {
     "name": "stdout",
     "output_type": "stream",
     "text": [
      "choose type of plot\n",
      "{'339405622': {'state': 'choosing_plot'}}\n",
      "{'339405622': {'state': 'choosing_plot'}}\n",
      "frequency plot choosen, type \\stop to stop entrying data\n",
      "{'339405622': {'state': 'frequency'}}\n",
      "{'339405622': {'state': 'frequency', 'data_plot': 's'}}\n"
     ]
    }
   ],
   "source": [
    "context={'339405622':{'state':None}}\n",
    "choosing_plot(context,'339405622',db,\"c\")\n",
    "print context\n",
    "plot_handler(context,'339405622',db,\"s\")\n",
    "print context\n",
    "choosing_plot(context,'339405622',db,\"frequency\")\n",
    "print context\n",
    "plot_handler(context,'339405622',db,\"s\")\n",
    "print context"
   ]
  },
  {
   "cell_type": "markdown",
   "metadata": {},
   "source": [
    "# Testing conversation"
   ]
  },
  {
   "cell_type": "code",
   "execution_count": 95,
   "metadata": {},
   "outputs": [
    {
     "name": "stderr",
     "output_type": "stream",
     "text": [
      "\n",
      " 2018-06-01 11:48:06,094 - root - DEBUG - INSIDE CHOOSING PLOT CONTEXT:{'339405622': {'state': None}} MESSAGE hey\n",
      "\n",
      "\n",
      " 2018-06-01 11:48:06,103 - root - DEBUG - modifying state to choosing_plot\n",
      "\n",
      "\n",
      " 2018-06-01 11:48:06,110 - __main__ - DEBUG - token sent None\n",
      "\n",
      "\n",
      " 2018-06-01 11:48:06,119 - __main__ - DEBUG - context conversation output{'339405622': {'state': 'choosing_plot'}}\n",
      "\n"
     ]
    },
    {
     "name": "stdout",
     "output_type": "stream",
     "text": [
      "choose type of plot\n"
     ]
    }
   ],
   "source": [
    "context={'339405622':{'state':None}}\n",
    "conversation(context,'339405622',db,\"hey\")"
   ]
  },
  {
   "cell_type": "code",
   "execution_count": 97,
   "metadata": {},
   "outputs": [
    {
     "name": "stderr",
     "output_type": "stream",
     "text": [
      "\n",
      " 2018-06-01 11:48:27,695 - root - DEBUG - INSIDE CHOOSING PLOT CONTEXT:{'339405622': {'state': 'choosing_plot'}} MESSAGE frequency\n",
      "\n",
      "\n",
      " 2018-06-01 11:48:27,699 - root - DEBUG - modifying state to frequency\n",
      "\n",
      "\n",
      " 2018-06-01 11:48:27,705 - __main__ - DEBUG - token sent {'username': u'Jojo', 'date': 1, 'password': u'Jojo', 'data': 'frequency', 'typeplot': 'frequency'}\n",
      "\n",
      "\n",
      " 2018-06-01 11:48:27,707 - __main__ - DEBUG - context conversation output{'339405622': {'state': 'frequency', 'data_plot': 'frequency'}}\n",
      "\n"
     ]
    },
    {
     "name": "stdout",
     "output_type": "stream",
     "text": [
      "frequency plot choosen, type \\stop to stop entrying data\n"
     ]
    }
   ],
   "source": [
    "conversation(context,'339405622',db,\"frequency\")"
   ]
  },
  {
   "cell_type": "code",
   "execution_count": 98,
   "metadata": {},
   "outputs": [
    {
     "name": "stderr",
     "output_type": "stream",
     "text": [
      "\n",
      " 2018-06-01 11:48:38,292 - root - DEBUG - INSIDE CHOOSING PLOT CONTEXT:{'339405622': {'state': 'frequency', 'data_plot': 'frequency'}} MESSAGE bb\n",
      "\n",
      "\n",
      " 2018-06-01 11:48:38,297 - __main__ - DEBUG - token sent {'username': u'Jojo', 'date': 1, 'password': u'Jojo', 'data': 'bb', 'typeplot': 'frequency'}\n",
      "\n",
      "\n",
      " 2018-06-01 11:48:38,304 - __main__ - DEBUG - context conversation output{'339405622': {'state': 'frequency', 'data_plot': 'bb'}}\n",
      "\n"
     ]
    }
   ],
   "source": [
    "conversation(context,'339405622',db,\"bb\")"
   ]
  },
  {
   "cell_type": "code",
   "execution_count": 99,
   "metadata": {},
   "outputs": [
    {
     "name": "stderr",
     "output_type": "stream",
     "text": [
      "\n",
      " 2018-06-01 11:48:59,478 - root - DEBUG - INSIDE CHOOSING PLOT CONTEXT:{'339405622': {'state': 'frequency', 'data_plot': 'bb'}} MESSAGE \\stop\n",
      "\n",
      "\n",
      " 2018-06-01 11:48:59,485 - __main__ - DEBUG - token sent None\n",
      "\n",
      "\n",
      " 2018-06-01 11:48:59,488 - __main__ - DEBUG - context conversation output{'339405622': {'state': None}}\n",
      "\n"
     ]
    },
    {
     "name": "stdout",
     "output_type": "stream",
     "text": [
      "Ending data entry\n"
     ]
    }
   ],
   "source": [
    "conversation(context,'339405622',db,\"\\stop\")"
   ]
  },
  {
   "cell_type": "code",
   "execution_count": 100,
   "metadata": {},
   "outputs": [
    {
     "name": "stderr",
     "output_type": "stream",
     "text": [
      "\n",
      " 2018-06-01 11:49:07,483 - root - DEBUG - INSIDE CHOOSING PLOT CONTEXT:{'339405622': {'state': None}} MESSAGE \\stop\n",
      "\n",
      "\n",
      " 2018-06-01 11:49:07,492 - root - DEBUG - modifying state to choosing_plot\n",
      "\n",
      "\n",
      " 2018-06-01 11:49:07,494 - __main__ - DEBUG - token sent None\n",
      "\n",
      "\n",
      " 2018-06-01 11:49:07,504 - __main__ - DEBUG - context conversation output{'339405622': {'state': 'choosing_plot'}}\n",
      "\n"
     ]
    },
    {
     "name": "stdout",
     "output_type": "stream",
     "text": [
      "choose type of plot\n"
     ]
    }
   ],
   "source": [
    "conversation(context,'339405622',db,\"\\stop\")"
   ]
  },
  {
   "cell_type": "code",
   "execution_count": null,
   "metadata": {},
   "outputs": [],
   "source": [
    "def choosing_plot(context,ids,db,message):\n",
    "\tnotkey(ids,context)\n",
    "    logging.debug('INSIDE CHOOSING PLOT CONTEXT:{} MESSAGE {}'.format(context,message))\n",
    "    if not context[ids]['state']:\n",
    "        context[ids]['state']='choosing_plot'\n",
    "        logging.debug('modifying state to choosing_plot')\n",
    "        print \"choose type of plot\"\n",
    "        #send_message(\"Choose type of plot series frequency\",ids)\n",
    "    elif context[ids]['state']=='choosing_plot':\n",
    "        if check_valid_arg_plot(message):\n",
    "            context[ids]['state']=message\n",
    "            logging.debug('modifying state to {}'.format(message))\n",
    "            print \"{} plot choosen, type \\stop to stop entrying data\".format(message)\n",
    "            #send_message(\"{} plot choosen, type \\stop to stop entrying data\".format(message),ids)\n",
    "        else:\n",
    "            print \"unknown command\"\n",
    "            #send_message('unknown command',ids)"
   ]
  }
 ],
 "metadata": {
  "kernelspec": {
   "display_name": "Python 2",
   "language": "python",
   "name": "python2"
  },
  "language_info": {
   "codemirror_mode": {
    "name": "ipython",
    "version": 2
   },
   "file_extension": ".py",
   "mimetype": "text/x-python",
   "name": "python",
   "nbconvert_exporter": "python",
   "pygments_lexer": "ipython2",
   "version": "2.7.12"
  }
 },
 "nbformat": 4,
 "nbformat_minor": 2
}
